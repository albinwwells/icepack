{
 "cells": [
  {
   "cell_type": "code",
   "execution_count": null,
   "metadata": {},
   "outputs": [],
   "source": [
    "%matplotlib inline\n",
    "import matplotlib.pyplot as plt\n",
    "import firedrake\n",
    "import icepack, icepack.plot, icepack.models"
   ]
  },
  {
   "cell_type": "markdown",
   "metadata": {},
   "source": [
    "# Synthetic ice shelf\n",
    "\n",
    "In this demo, we'll show how to simulate the evolution of a floating ice shelf.\n",
    "Running a simulation consists of creating a model object that represents the physics you're using, and calling the model object's solve methods.\n",
    "These methods take a set of input fields and return some output field.\n",
    "For most ice sheet models, there are two kinds of PDEs to solve: a diagnostic equation that takes in a thickness and returns the current velocity, and a prognostic equation that takes the current velocity and thickness, and returns the thickness at the next timestep.\n",
    "To keep things as simple as possible, we'll use an exact analytic solution for the velocity of a floating ice shelf with a thickness that decreases linearly from the inflow boundary to the ice front."
   ]
  },
  {
   "cell_type": "markdown",
   "metadata": {},
   "source": [
    "### Geometry and input data\n",
    "\n",
    "First we need to define some input data, for which we'll use an exact solution for a floating ice shelf with a simple geometry.\n",
    "A thorough derivation of the PDE for ice shelf flow can be found in chapter 6 of Greve and Blatter, [Dynamics of Ice Sheets and Glaciers](https://books.google.com/books?isbn=3642034152), along with the exact solution that we'll use here.\n",
    "We'll briefly review what these PDEs are below.\n",
    "The symbols and variable names we use will correspond exactly to the variable names used in the code that follows.\n",
    "\n",
    "The diagnostic equation for the velocity of an ice shelf is\n",
    "\n",
    "$$ \\nabla\\cdot hM - \\frac{1}{2}\\varrho g\\nabla h^2 = 0$$\n",
    "\n",
    "where $h$ is the ice thickness, $M$ is the membrane stress tensor, $g$ is the acceleration due to gravity, and $\\varrho = \\rho_I(1 - \\rho_I/\\rho_W)$ is the buoyant density of ice over water.\n",
    "The membrane stress is defined as\n",
    "\n",
    "$$M = 2\\mu(\\dot\\varepsilon + \\text{tr}(\\dot\\varepsilon)I),$$\n",
    "\n",
    "where $\\mu$ is the ice viscosity, $\\dot\\varepsilon = (\\nabla u + \\nabla u^*)/2$ is the 2D strain-rate tensor, and $I$ is the identity tensor.\n",
    "Note that since we're in 2D the trace of the strain rate tensor is no longer zero.\n",
    "Finally, the ice viscosity is a function of the strain rate tensor:\n",
    "\n",
    "$$\\mu = \\frac{B}{2}\\sqrt{\\frac{\\dot\\varepsilon : \\dot\\varepsilon + \\text{tr}(\\dot\\varepsilon)^2}{2}}^{1/n - 1}$$\n",
    "\n",
    "where $n = 3$, and $B$ is the temperature-dependent rheology coefficient.\n",
    "\n",
    "When we consider ice shelves with no variation in the $y$-direction, these equations reduce to a 1D boundary value problem.\n",
    "We can integrate twice to get that\n",
    "\n",
    "$$ u = u_0 + \\int_0^x\\left(\\frac{\\varrho g h(x')}{4B}\\right)^n dx'.$$\n",
    "\n",
    "When $h$ is a linear function of $x$ and $B$ is constant, we can evaluate this integral exactly to arrive at an expression for $u$ which is a degree-4 polynomial.\n",
    "\n",
    "First, let's set up the geometry and some function spaces."
   ]
  },
  {
   "cell_type": "code",
   "execution_count": null,
   "metadata": {},
   "outputs": [],
   "source": [
    "Lx, Ly = 20e3, 20e3\n",
    "nx, ny = 16, 16\n",
    "mesh = firedrake.RectangleMesh(nx, ny, Lx, Ly)\n",
    "x, y = firedrake.SpatialCoordinate(mesh)\n",
    "\n",
    "degree = 2\n",
    "Q = firedrake.FunctionSpace(mesh, 'CG', degree)\n",
    "V = firedrake.VectorFunctionSpace(mesh, 'CG', degree)"
   ]
  },
  {
   "cell_type": "markdown",
   "metadata": {},
   "source": [
    "Next, we'll interpolate the expressions for the exact fields to the finite element representation.\n",
    "This should all be familiar from the last demo."
   ]
  },
  {
   "cell_type": "code",
   "execution_count": null,
   "metadata": {},
   "outputs": [],
   "source": [
    "h0, δh = 500.0, 100.0\n",
    "h = firedrake.interpolate(h0 - δh * x / Lx, Q)\n",
    "\n",
    "from icepack.constants import rho_ice as ρ_I, rho_water as ρ_W, \\\n",
    "    gravity as g, glen_flow_law as n\n",
    "ϱ = ρ_I * (1 - ρ_I / ρ_W)\n",
    "T0 = 254.15\n",
    "B = icepack.rate_factor(T0)**(-1/n)\n",
    "ζ = (ϱ * g * h0 / (4 * B))**n\n",
    "β = 1 - (1 - (δh/h0) * (x/Lx))**(n + 1)\n",
    "u0 = 100.0\n",
    "du = ζ * β * Lx * (h0 / δh) / (n + 1)\n",
    "v = firedrake.interpolate(firedrake.as_vector((u0 + du, 0)), V)"
   ]
  },
  {
   "cell_type": "markdown",
   "metadata": {},
   "source": [
    "Here we'll plot both the thickness and the exact solution for the velocity.\n",
    "Just to show off some of the matplotlib integration, we'll make them as subplots of the same figure.\n",
    "The extra padding around the colorbars and the call to `fig.tight_layout()` are necessary for things to look nice."
   ]
  },
  {
   "cell_type": "code",
   "execution_count": null,
   "metadata": {},
   "outputs": [],
   "source": [
    "fig, axes = icepack.plot.subplots(ncols=2, sharex=True, sharey=True)\n",
    "\n",
    "axes[0].set_title('Thickness')\n",
    "contours_h = icepack.plot.tricontourf(h, axes=axes[0])\n",
    "fig.colorbar(contours_h, ax=axes[0], label='meters', fraction=0.046, pad=0.04)\n",
    "\n",
    "axes[1].set_title('Velocity')\n",
    "contours_v = icepack.plot.tricontourf(v, axes=axes[1])\n",
    "fig.colorbar(contours_v, ax=axes[1], label='meters/year', fraction=0.046, pad=0.04)\n",
    "\n",
    "fig.tight_layout()\n",
    "plt.show(fig)"
   ]
  },
  {
   "cell_type": "markdown",
   "metadata": {},
   "source": [
    "### Modeling\n",
    "\n",
    "To actually start solving things, we'll make an `IceShelf` object that represents the physical model we're using.\n",
    "The model object stores a bunch of data about the individual physics components -- viscosity, gravity, etc.\n",
    "These aren't important for now but we'll come back to them later.\n",
    "\n",
    "Each model type has two methods, `diagnostic_solve` and `prognostic_solve`, that solve the PDEs for the ice velocity and thickness."
   ]
  },
  {
   "cell_type": "code",
   "execution_count": null,
   "metadata": {},
   "outputs": [],
   "source": [
    "ice_shelf = icepack.models.IceShelf()\n",
    "help(ice_shelf.diagnostic_solve)"
   ]
  },
  {
   "cell_type": "markdown",
   "metadata": {},
   "source": [
    "To solve for the ice velocity, we pass in all the input fields as keyword arguments.\n",
    "To make things a little more interesting, we'll use a value of the fluidity parameter that changes in the center of the domain.\n",
    "Since we're using a value of the fluidity parameter that varies in both the $x$- and $y$-directions, the PDE will no longer have a nice closed-form solution."
   ]
  },
  {
   "cell_type": "code",
   "execution_count": null,
   "metadata": {},
   "outputs": [],
   "source": [
    "px, py = x/Lx, y/Ly\n",
    "shape_x = 16 * firedrake.max_value(0, (px - 1/4) * (3/4 - px))\n",
    "shape_y = 16 * firedrake.max_value(0, (py - 1/4) * (3/4 - py))\n",
    "\n",
    "δT = 10.0\n",
    "T = T0 + shape_x * shape_y * δT\n",
    "A = firedrake.interpolate(icepack.rate_factor(T), Q)\n",
    "\n",
    "fig, axes = icepack.plot.subplots()\n",
    "contours = icepack.plot.tricontourf(A, axes=axes)\n",
    "fig.colorbar(contours, label=r'MPa${}^{-3}$ * years${}^{-1}$')\n",
    "plt.show(fig)"
   ]
  },
  {
   "cell_type": "markdown",
   "metadata": {},
   "source": [
    "We also need to describe the boundary conditions we're using and the tolerance for solving Newton's method.\n",
    "Since the boundary conditions and convergence tolerance are usually the same throughout a simulation, we'll pack them into a dictionary and reuse it throughout.\n",
    "To compute the velocity field that results from the values of the thickness and fluidity we've chosen, we invoke the diagnostic solve method of the ice shelf object, passing in the extra options as keyword arguments."
   ]
  },
  {
   "cell_type": "code",
   "execution_count": null,
   "metadata": {},
   "outputs": [],
   "source": [
    "opts = {'dirichlet_ids': [1, 3, 4], 'tol': 1e-12}\n",
    "u = ice_shelf.diagnostic_solve(u0=v, h=h, A=A, **opts)"
   ]
  },
  {
   "cell_type": "markdown",
   "metadata": {},
   "source": [
    "Note how in the diagnostic solve procedure we passed everything in as a keyword argument.\n",
    "This convention will be used throughout all the demos.\n",
    "Keyword arguments are slightly more verbose, but they save you the trouble of remembering what order everything goes in.\n",
    "On top of that, many fields are *only* passed in as keyword arguments; for example, the fluidity parameter is not a positional argument of the diagnostic solve routine.\n",
    "The reason for this choice, as we'll see later, is that it's much easier to swap out components of the model physics for your own customized versions."
   ]
  },
  {
   "cell_type": "markdown",
   "metadata": {},
   "source": [
    "The effect of using a different fluidity field can be seen in how the contour lines for the ice speed bend in the middle of the domain."
   ]
  },
  {
   "cell_type": "code",
   "execution_count": null,
   "metadata": {},
   "outputs": [],
   "source": [
    "fig, axes = icepack.plot.subplots()\n",
    "contours = icepack.plot.tricontourf(u, axes=axes)\n",
    "fig.colorbar(contours, label='meters/year')\n",
    "plt.show(fig)"
   ]
  },
  {
   "cell_type": "markdown",
   "metadata": {},
   "source": [
    "To project the state of the ice shelf forward in time, we'll use the prognostic solve method.\n",
    "The prognostic solver updates the ice thickness forward by a given timestep given the accumulation rate and velocity.\n",
    "We then update the velocity using the diagnostic solver at each timestep.\n",
    "The following code runs the model forward for a year with a timestep of one month, assuming a constant value of the accumulation rate."
   ]
  },
  {
   "cell_type": "code",
   "execution_count": null,
   "metadata": {},
   "outputs": [],
   "source": [
    "T = 1.0\n",
    "num_timesteps = 12\n",
    "dt = T / num_timesteps\n",
    "a = firedrake.interpolate(firedrake.Constant(-2.5), Q)\n",
    "\n",
    "for k in range(num_timesteps):\n",
    "    h = ice_shelf.prognostic_solve(dt, h0=h, a=a, u=u)\n",
    "    u = ice_shelf.diagnostic_solve(u0=u, h=h, A=A, **opts)"
   ]
  },
  {
   "cell_type": "code",
   "execution_count": null,
   "metadata": {},
   "outputs": [],
   "source": [
    "fig, axes = icepack.plot.subplots()\n",
    "contours = icepack.plot.tricontourf(h, axes=axes)\n",
    "fig.colorbar(contours, label='meters')\n",
    "plt.show(fig)"
   ]
  },
  {
   "cell_type": "code",
   "execution_count": null,
   "metadata": {},
   "outputs": [],
   "source": [
    "fig, axes = icepack.plot.subplots()\n",
    "contours = icepack.plot.tricontourf(u, axes=axes)\n",
    "fig.colorbar(contours, label='meters/year')\n",
    "plt.show(fig)"
   ]
  },
  {
   "cell_type": "markdown",
   "metadata": {},
   "source": [
    "### Conclusion\n",
    "\n",
    "In the last demo, we saw how to create a mesh, define a finite element space, interpolate functions to that finite element space, and analyze the results through either plotting or more general post-processing.\n",
    "Here we've shown how to use these functions as an input to an ice shelf flow model.\n",
    "There are a lot of interesting experiments you can do with synthetic ice shelves.\n",
    "For example, you can approximate the effect of seasonality by making the accumulation rate and inflow thickness a sinusoidal function of time.\n",
    "You can then add things like tidal effects and see how they alter the overall ice flow.\n",
    "In the next demo, we'll show how to use these functions for simulating a real ice shelf using observational data."
   ]
  }
 ],
 "metadata": {
  "language_info": {
   "name": "python",
   "pygments_lexer": "ipython3"
  }
 },
 "nbformat": 4,
 "nbformat_minor": 2
}
