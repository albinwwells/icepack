{
 "cells": [
  {
   "cell_type": "code",
   "execution_count": null,
   "metadata": {},
   "outputs": [],
   "source": [
    "%matplotlib inline\n",
    "import os\n",
    "import matplotlib.pyplot as plt\n",
    "import numpy as np\n",
    "import rasterio\n",
    "import firedrake\n",
    "import icepack, icepack.plot, icepack.models"
   ]
  },
  {
   "cell_type": "markdown",
   "metadata": {},
   "source": [
    "# Larsen Ice Shelf\n",
    "\n",
    "This demo will involve using real data for the Larsen Ice Shelf in the Antarctic Peninsula.\n",
    "The use of real data will mostly change how we set up the simulation.\n",
    "The simulation itself -- involving successive prognostic and diagnostic solves of the physics model -- is virtually identical to what we saw in the last demo.\n",
    "\n",
    "To access the data we'll use, you'll need to have a login for [EarthData](https://urs.earthdata.nasa.gov/), the web portal through which NASA makes remote sensing data available to the public.\n",
    "Most of the ice sheet remote sensing data produced by American research institutions is hosted at the [National Snow and Ice Data Center (NSIDC)](https://www.nsidc.org) and an EarthData login is necessary to access data from NSIDC.\n",
    "In particular, we'll use a velocity map of Antarctica produced as part of the MEaSUREs program, which you can read more about [here](https://nsidc.org/data/nsidc-0484).\n",
    "For the ice thickness we'll use the [bedmap2](https://www.bas.ac.uk/project/bedmap-2/) data set, which is available from the British Antarctic Survey.\n",
    "Finally, we'll need a description of the computational domain.\n",
    "In this case, I created a vector data file of the outline of the Larsen Ice Shelf by tracing over satellite imagery in a [geographic information system](https://en.wikipedia.org/wiki/Geographic_information_system).\n",
    "\n",
    "Rather than manually download these data sets from the websites they're hosted on, we'll call a few functions in the module `data.py` in this directory to fetch them for us.\n",
    "(Internally, these functions use a library called [pooch](https://github.com/fatiando/pooch) which handles things like caching the data so it doesn't get downloaded twice, unzipping archived files, and so forth.)\n",
    "One we have the gridded data sets we'll use the library [rasterio](https://rasterio.readthedocs.io/en/stable/) to read them.\n",
    "Both pooch and rasterio will have been installed along with icepack, so you don't need to do this yourself.\n",
    "You will need to have a working installation of [gmsh](https://gmsh.info) in order to generate the mesh.\n",
    "\n",
    "First, we'll fetch the mesh and print out the path to the file where it's been stored."
   ]
  },
  {
   "cell_type": "code",
   "execution_count": null,
   "metadata": {},
   "outputs": [],
   "source": [
    "import data\n",
    "mesh_filename = data.fetch_larsen_mesh()\n",
    "print(mesh_filename)"
   ]
  },
  {
   "cell_type": "markdown",
   "metadata": {},
   "source": [
    "This function will put the mesh in a predictable location on your system so it can be found easily later, and it will only download the file the first time you ask for it.\n",
    "The caching aspect will come in handy because we'll be using much of the same data in the fourth demo.\n",
    "The data module contains functions to fetch the remaining data, which we'll see below."
   ]
  },
  {
   "cell_type": "markdown",
   "metadata": {},
   "source": [
    "### Geometry\n",
    "\n",
    "Now that we've downloaded the mesh we need to read it.\n",
    "Firedrake has built-in functions for reading meshes in a variety of formats.\n",
    "The following code reads in the Larsen mesh and makes a plot of it so that we can see all the boundary IDs.\n",
    "Boundary segments 1 and 3 correspond to the calving terminus; segment 2 borders the Gipps Ice Rise."
   ]
  },
  {
   "cell_type": "code",
   "execution_count": null,
   "metadata": {},
   "outputs": [],
   "source": [
    "mesh = firedrake.Mesh(mesh_filename)\n",
    "\n",
    "fig, axes = icepack.plot.subplots()\n",
    "axes.set_xlabel('meters')\n",
    "axes.grid()\n",
    "icepack.plot.triplot(mesh, axes=axes, linewidth=2)\n",
    "plt.show(fig)"
   ]
  },
  {
   "cell_type": "markdown",
   "metadata": {},
   "source": [
    "### Input data\n",
    "\n",
    "Next, we have to load the input data, starting with the ice thickness.\n",
    "The bedmap2 dataset that we use actually includes several fields -- thickness, surface elevation, bed elevation, an ice shelf and rock mask, etc.\n",
    "The function `fetch_bedmap2` will download the dataset from the internet, unzip it, and return a list of the paths of all the files it retrieved rather than just a single file like the `fetch_larsen_mesh` function did."
   ]
  },
  {
   "cell_type": "code",
   "execution_count": null,
   "metadata": {},
   "outputs": [],
   "source": [
    "bedmap2_files = data.fetch_bedmap2()\n",
    "for filename in bedmap2_files:\n",
    "    print(filename)"
   ]
  },
  {
   "cell_type": "markdown",
   "metadata": {},
   "source": [
    "We're only interested in the thickness data itself, so the following command will pull it out from the list of all the other files in the bedmap2 dataset."
   ]
  },
  {
   "cell_type": "code",
   "execution_count": null,
   "metadata": {},
   "outputs": [],
   "source": [
    "thickness_filename = [f for f in bedmap2_files if\n",
    "                      os.path.basename(f) == 'bedmap2_thickness.tif'][0]"
   ]
  },
  {
   "cell_type": "markdown",
   "metadata": {},
   "source": [
    "The thickness data are stored in a [GeoTIFF](https://en.wikipedia.org/wiki/GeoTIFF) file.\n",
    "GeoTIFF is a common storage format for geospatial data; it adds georeferencing information on top of the TIFF file format, which is often used for lossless compression of images.\n",
    "The function `rasterio.open` will give us an object representing the raster data set that we can then read from."
   ]
  },
  {
   "cell_type": "code",
   "execution_count": null,
   "metadata": {},
   "outputs": [],
   "source": [
    "thickness = rasterio.open(thickness_filename, 'r')"
   ]
  },
  {
   "cell_type": "markdown",
   "metadata": {},
   "source": [
    "Opening the file doesn't immediately read all the data at once.\n",
    "Instead, that occurs through calls to the `read` method of the data set, in our case the variable `thickness`.\n",
    "The actual reading will occur entirely within the functions that interpolate the raster data to our computational mesh.\n",
    "This two-step procedure involves a little extra code, but the nice part is that you can read only as small a chunk of the data as need be.\n",
    "It would be awfully wasteful if you had to load up the thickness of all of Antarctica only to focus on a little piece like the Larsen Ice Shelf."
   ]
  },
  {
   "cell_type": "markdown",
   "metadata": {},
   "source": [
    "Before going on, let's make a plot of the thickness data.\n",
    "Plotting all your data first is a good sanity check to make sure that it isn't, say, stored upside-down, or in a different coordinate system than you expected.\n",
    "To visualize our data, we'll use the function `contourf` in the module `icepack.plot`, which works just like the equivalent matplotlib function."
   ]
  },
  {
   "cell_type": "code",
   "execution_count": null,
   "metadata": {},
   "outputs": [],
   "source": [
    "fig, axes = icepack.plot.subplots()\n",
    "contours = icepack.plot.contourf(thickness, 40, axes=axes)\n",
    "fig.colorbar(contours, label='meters')\n",
    "plt.show(fig)"
   ]
  },
  {
   "cell_type": "markdown",
   "metadata": {},
   "source": [
    "Next, we have to fetch the velocity data, which are hosted on NSIDC.\n",
    "The following will prompt for your EarthData login if need be.\n",
    "The file is ~6GiB, so if you run this demo yourself, this step could take a while."
   ]
  },
  {
   "cell_type": "code",
   "execution_count": null,
   "metadata": {},
   "outputs": [],
   "source": [
    "velocity_filename = data.fetch_measures_antarctica()"
   ]
  },
  {
   "cell_type": "markdown",
   "metadata": {},
   "source": [
    "The velocity data are stored in a [NetCDF](https://en.wikipedia.org/wiki/NetCDF) file.\n",
    "NetCDF is another common storage format for geophysical data, especially in atmospheric science.\n",
    "NetCDF offers much more freedom than GeoTIFF in terms of what kind of data can be stored, so you have to know something about the schema or layout before you use it.\n",
    "For example, many fields can be stored by name in a NetCDF file, and you have to know what all the names are.\n",
    "The script `ncinfo` will print out information about all the fields stored in a NetCDF file."
   ]
  },
  {
   "cell_type": "code",
   "execution_count": null,
   "metadata": {},
   "outputs": [],
   "source": [
    "!ncinfo \"$velocity_filename\""
   ]
  },
  {
   "cell_type": "markdown",
   "metadata": {},
   "source": [
    "The fields we want are `VX` and `VY`.\n",
    "We can use rasterio can read NetCDF files too, but we have to add in a bit of extra magic so it'll know that we want to get the `VX` and `VY`.\n",
    "To specify which field we're reading, we can prepend `netcdf:` to the beginning of the filename and append `:FIELD_NAME` to the string we pass to `rasterio.open`."
   ]
  },
  {
   "cell_type": "code",
   "execution_count": null,
   "metadata": {},
   "outputs": [],
   "source": [
    "vx = rasterio.open('netcdf:' + velocity_filename + ':VX', 'r')\n",
    "vy = rasterio.open('netcdf:' + velocity_filename + ':VY', 'r')"
   ]
  },
  {
   "cell_type": "markdown",
   "metadata": {},
   "source": [
    "### Modeling\n",
    "\n",
    "Having done all the leg work to make a mesh and get a good set of input data, the modeling itself should be fairly familiar from the last step.\n",
    "We'll assume that the ice temperature is a uniform $-13^\\circ$C.\n",
    "\n",
    "One thing is substantially different from previous examples.\n",
    "Before, we called the function `firedrake.SpatialCoordinate` to get some symbolic handles `x, y` for the mesh coordinates, and we created symbolic expressions to define the input data to our problem analytically.\n",
    "When we work with real data, we instead use icepack's `GridData` object, which firedrake doesn't know how to interpolate.\n",
    "The function `icepack.interpolate` works as a layer on top of the firedrake interpolate function and knows what to do with gridded data sets."
   ]
  },
  {
   "cell_type": "code",
   "execution_count": null,
   "metadata": {},
   "outputs": [],
   "source": [
    "degree = 2\n",
    "Q = firedrake.FunctionSpace(mesh, family='CG', degree=degree)\n",
    "V = firedrake.VectorFunctionSpace(mesh, family='CG', degree=degree)\n",
    "\n",
    "h0 = icepack.interpolate(thickness, Q)\n",
    "u0 = icepack.interpolate((vx, vy), V)"
   ]
  },
  {
   "cell_type": "code",
   "execution_count": null,
   "metadata": {},
   "outputs": [],
   "source": [
    "fig, axes = icepack.plot.subplots()\n",
    "streamlines = icepack.plot.streamplot(u0, precision=1000, density=2500, axes=axes)\n",
    "fig.colorbar(streamlines, label='meters/year')\n",
    "plt.show(fig)"
   ]
  },
  {
   "cell_type": "code",
   "execution_count": null,
   "metadata": {},
   "outputs": [],
   "source": [
    "T = 260\n",
    "A = firedrake.interpolate(firedrake.Constant(icepack.rate_factor(T)), Q)\n",
    "\n",
    "ice_shelf = icepack.models.IceShelf()\n",
    "opts = {'dirichlet_ids': [2, 4, 5, 6, 7, 8], 'tol': 1e-6}\n",
    "u = ice_shelf.diagnostic_solve(u0=u0, h=h0, A=A, **opts)"
   ]
  },
  {
   "cell_type": "code",
   "execution_count": null,
   "metadata": {},
   "outputs": [],
   "source": [
    "fig, axes = icepack.plot.subplots()\n",
    "streamlines = icepack.plot.streamplot(u, precision=1000, density=2500, axes=axes)\n",
    "fig.colorbar(streamlines, label='meters/year')\n",
    "plt.show(fig)"
   ]
  },
  {
   "cell_type": "markdown",
   "metadata": {},
   "source": [
    "We get a fairly reasonable approximation for the velocity even with a spatially homogeneous guess for the ice temperature."
   ]
  },
  {
   "cell_type": "code",
   "execution_count": null,
   "metadata": {},
   "outputs": [],
   "source": [
    "print(icepack.norm(u - u0) / icepack.norm(u0))"
   ]
  },
  {
   "cell_type": "markdown",
   "metadata": {},
   "source": [
    "Ballpark estimate, the surface and basal mass balance of Larsen C are +30 and -30 cm/yr respectively, so we can take the total to be 0.\n",
    "Let's simulate the evolution of the ice shelf for the next 10 years.\n",
    "The code for this loop should be familiar from the previous example."
   ]
  },
  {
   "cell_type": "code",
   "execution_count": null,
   "metadata": {},
   "outputs": [],
   "source": [
    "a = firedrake.Function(Q)\n",
    "h = h0.copy(deepcopy=True)\n",
    "\n",
    "dt = 0.5\n",
    "for n in range(int(10 / dt) + 1):\n",
    "    h = ice_shelf.prognostic_solve(dt, h0=h, a=a, u=u, h_inflow=h0)\n",
    "    u = ice_shelf.diagnostic_solve(u0=u, h=h, A=A, **opts)"
   ]
  },
  {
   "cell_type": "code",
   "execution_count": null,
   "metadata": {},
   "outputs": [],
   "source": [
    "fig, axes = icepack.plot.subplots()\n",
    "contours = icepack.plot.tricontourf(h, 96, axes=axes)\n",
    "fig.colorbar(contours, label='meters')\n",
    "plt.show(fig)"
   ]
  },
  {
   "cell_type": "markdown",
   "metadata": {},
   "source": [
    "By plotting the difference between the modeled thickness after 10 years and the initial thickness, we can see the propagation of the rifts downstream.\n",
    "This effect is best visualized with a diverging colormap that makes the 0-contour really obvious."
   ]
  },
  {
   "cell_type": "code",
   "execution_count": null,
   "metadata": {},
   "outputs": [],
   "source": [
    "δh = firedrake.Function(Q)\n",
    "δh.assign(h - h0)\n",
    "\n",
    "fig, axes = icepack.plot.subplots()\n",
    "contours = icepack.plot.tricontourf(δh, axes=axes, cmap='RdBu',\n",
    "                                    levels=np.linspace(-10, +10, 101), extend='both')\n",
    "fig.colorbar(contours, label='meters')\n",
    "plt.show(fig)"
   ]
  },
  {
   "cell_type": "markdown",
   "metadata": {},
   "source": [
    "The oscillatory pattern makes it less than obvious whether the ice shelf gained or lost mass, so let's evaluate the integral of the thickness change to see."
   ]
  },
  {
   "cell_type": "code",
   "execution_count": null,
   "metadata": {},
   "outputs": [],
   "source": [
    "from firedrake import assemble, dx\n",
    "print(assemble(δh * dx) / assemble(1 * dx(mesh)))"
   ]
  },
  {
   "cell_type": "markdown",
   "metadata": {},
   "source": [
    "Seeing as the simulation ran for 10 years, this isn't a wildly unrealistic number."
   ]
  },
  {
   "cell_type": "markdown",
   "metadata": {},
   "source": [
    "### Conclusion\n",
    "\n",
    "In the last demo, we showed how to simulate ice shelf flow using synthetic data.\n",
    "Here we showed how to load in a generated mesh and observational data, and we used this same functionality to simulate a real ice shelf.\n",
    "\n",
    "Many real data sets require some amount of preprocessing before they can be used for modeling.\n",
    "For example, many velocity data sets have missing pixels or patches due to noise in the optical or radar imagery, and these missing points have to be filled in somehow.\n",
    "The Bedmap2 thickness also contains processing artifacts that are visible as depressions running diagonally across the ice shelf.\n",
    "These artifacts could be removed by using a low-pass filter on the gridded data, although this might also wash out some real features like the many rifts in the ice.\n",
    "\n",
    "In order to run the simulation, we had to come up with a guess for the ice rheology.\n",
    "The simple choice we made is quite far from the real value and in a subsequent demo we'll show how to estimate it from observational data."
   ]
  }
 ],
 "metadata": {
  "kernelspec": {
   "display_name": "firedrake",
   "language": "python",
   "name": "firedrake"
  },
  "language_info": {
   "name": "python",
   "pygments_lexer": "ipython3"
  }
 },
 "nbformat": 4,
 "nbformat_minor": 2
}
