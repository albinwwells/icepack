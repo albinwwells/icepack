{
 "cells": [
  {
   "cell_type": "code",
   "execution_count": null,
   "metadata": {},
   "outputs": [],
   "source": [
    "%matplotlib inline\n",
    "import os\n",
    "import matplotlib.pyplot as plt\n",
    "import numpy as np\n",
    "import rasterio\n",
    "import firedrake\n",
    "import icepack, icepack.plot, icepack.models"
   ]
  },
  {
   "cell_type": "markdown",
   "metadata": {},
   "source": [
    "# Larsen Ice Shelf\n",
    "\n",
    "This demo will involve using real data for the Larsen Ice Shelf in the Antarctic Peninsula.\n",
    "So far as the actual modeling is concerned, most of what we'll need was in the previous demo.\n",
    "What's new here are the functions for reading in meshes and gridded data sets from files.\n",
    "\n",
    "The scripts I used to fetch and process all of this data are contained in [this repo](https://github.com/icepack/icepack-data).\n",
    "To use it, clone the repository and run `make` in each of the directories `bedmap2/`, `measures-antarctica/`, and `meshes/larsen/`.\n",
    "For this notebook, I'll assume that the absolute path of the data repository on your computer is stored in a variable `data_directory`.\n",
    "In my case, I keep this in an environment variable called `ICEPACK_DATA`.\n",
    "If you modify this notebook for your own uses, you can use whatever works for you to get the path right; the easiest way would probably be to hard-code `data_directory` to the right location on your computer."
   ]
  },
  {
   "cell_type": "code",
   "execution_count": null,
   "metadata": {},
   "outputs": [],
   "source": [
    "data_directory = os.environ['ICEPACK_DATA']\n",
    "print(data_directory)"
   ]
  },
  {
   "cell_type": "markdown",
   "metadata": {},
   "source": [
    "### Geometry\n",
    "\n",
    "First we need to make a mesh.\n",
    "I go about this by hand-drawing the domain boundary in [QGIS](https://www.qgis.org) on top of satellite imagery and whatever other gridded data sets I'm working with.\n",
    "I always save these vector data in the [GeoJSON](http://geojson.org/) format rather than, say, an ESRI shapefile.\n",
    "GeoJSON is human-readable and easy to keep in version control.\n",
    "The GeoJSON files for the outline of Larsen are in the directory of `meshes/larsen/` of the [data repo](https://github.com/icepack/icepack-data).\n",
    "That said, this is my own peculiar workflow and yours might differ.\n",
    "\n",
    "The domain outline is then transformed into whatever file format your mesh generator of choice can read.\n",
    "For this example, I used [gmsh](http://gmsh.info/).\n",
    "Finally, we invoke the mesh generator to turn our description of the outline into a mesh of the interior of the domain.\n",
    "\n",
    "Firedrake has built-in functions for reading meshes in a variety of formats.\n",
    "The following code reads in the Larsen mesh and makes a plot of it so that we can see all the boundary IDs.\n",
    "Boundary segments 1 and 2 correspond to the calving terminus; segment 3 borders the Gipps Ice Rise."
   ]
  },
  {
   "cell_type": "code",
   "execution_count": null,
   "metadata": {},
   "outputs": [],
   "source": [
    "mesh = firedrake.Mesh(os.path.join(data_directory, 'meshes', 'larsen', 'larsen.msh'))\n",
    "\n",
    "fig, axes = icepack.plot.subplots()\n",
    "axes.set_xlabel('meters')\n",
    "axes.grid()\n",
    "icepack.plot.triplot(mesh, axes=axes, linewidth=2)\n",
    "plt.show(fig)"
   ]
  },
  {
   "cell_type": "markdown",
   "metadata": {},
   "source": [
    "### Input data\n",
    "\n",
    "Next, we have to load the input data.\n",
    "We'll use ice thickness data from [Bedmap2](https://www.bas.ac.uk/project/bedmap-2/) and velocity data from [MEaSUREs](https://nsidc.org/data/measures/aiv).\n",
    "The scripts in the `bedmap2` and `measures-antarctica` directories of the [data repo](https://github.com/icepack/icepack-data) fetch these data sets from their various hosts online.\n",
    "\n",
    "First, we'll read in the thickness data, which are stored in the [GeoTIFF](https://en.wikipedia.org/wiki/GeoTIFF) format.\n",
    "GeoTIFF is a common storage format for geospatial data; it adds georeferencing information on top of the TIFF file format, which is often used for lossless compression of images.\n",
    "We'll use the [rasterio](https://rasterio.readthedocs.io/en/stable/) package, which has functions to open GeoTIFF and other file formats.\n",
    "The function `rasterio.open` will give us an object representing the raster data set that we can then read from."
   ]
  },
  {
   "cell_type": "code",
   "execution_count": null,
   "metadata": {},
   "outputs": [],
   "source": [
    "bedmap2_filename = os.path.join(data_directory, 'bedmap2', 'bedmap2_tiff', 'bedmap2_thickness.tif')\n",
    "thickness = rasterio.open(bedmap2_filename, 'r')"
   ]
  },
  {
   "cell_type": "markdown",
   "metadata": {},
   "source": [
    "Opening the file doesn't immediately read all the data at once.\n",
    "Instead, that occurs through calls to the `read` method of the data set, in our case the variable `thickness`.\n",
    "The actual reading will occur entirely within the functions that interpolate the raster data to our computational mesh.\n",
    "This two-step procedure involves a little extra code, but the nice part is that you can read only as small a chunk of the data as need be.\n",
    "It would be awfully wasteful if you had to load up the thickness of all of Antarctica only to focus on a little piece like the Larsen Ice Shelf."
   ]
  },
  {
   "cell_type": "markdown",
   "metadata": {},
   "source": [
    "Before going on, let's make a plot of the thickness data.\n",
    "Plotting all your data first is a good sanity check to make sure that it isn't, say, stored upside-down, or in a different coordinate system than you expected.\n",
    "To visualize our data, we'll use the function `contourf` in the module `icepack.plot`, which works just like the equivalent matplotlib function."
   ]
  },
  {
   "cell_type": "code",
   "execution_count": null,
   "metadata": {},
   "outputs": [],
   "source": [
    "fig, axes = icepack.plot.subplots()\n",
    "contours = icepack.plot.contourf(thickness, 40, axes=axes)\n",
    "fig.colorbar(contours, label='meters')\n",
    "plt.show(fig)"
   ]
  },
  {
   "cell_type": "markdown",
   "metadata": {},
   "source": [
    "Next, we have to read in the velocity data.\n",
    "The velocity data are stored in a [NetCDF](https://en.wikipedia.org/wiki/NetCDF) file.\n",
    "Many fields can be stored in one NetCDF file; we only want the $x$- and $y$-components of the velocity.\n",
    "To specify which field we're reading, we can prepend `netcdf:` to the beginning of the filename and append `:FIELD_NAME` to the string we pass to `rasterio.open`.\n",
    "The field names for the velocity components in this data set are `VX` and `VY`."
   ]
  },
  {
   "cell_type": "code",
   "execution_count": null,
   "metadata": {},
   "outputs": [],
   "source": [
    "measures_filename = os.path.join(data_directory, 'measures-antarctica', 'antarctica_ice_velocity_450m_v2.nc')\n",
    "vx = rasterio.open('netcdf:' + measures_filename + ':VX', 'r')\n",
    "vy = rasterio.open('netcdf:' + measures_filename + ':VY', 'r')"
   ]
  },
  {
   "cell_type": "markdown",
   "metadata": {},
   "source": [
    "You can see which variables are stored in a NetCDF file by running the shell command `ncinfo` on the file."
   ]
  },
  {
   "cell_type": "code",
   "execution_count": null,
   "metadata": {},
   "outputs": [],
   "source": [
    "!ncinfo \"$measures_filename\""
   ]
  },
  {
   "cell_type": "markdown",
   "metadata": {},
   "source": [
    "### Modeling\n",
    "\n",
    "Having done all the leg work to make a mesh and get a good set of input data, the modeling itself should be fairly familiar from the last step.\n",
    "We'll assume that the ice temperature is a uniform $-13^\\circ$C.\n",
    "\n",
    "One thing is substantially different from previous examples.\n",
    "Before, we called the function `firedrake.SpatialCoordinate` to get some symbolic handles `x, y` for the mesh coordinates, and we created symbolic expressions to define the input data to our problem analytically.\n",
    "When we work with real data, we instead use icepack's `GridData` object, which firedrake doesn't know how to interpolate.\n",
    "The function `icepack.interpolate` works as a layer on top of the firedrake interpolate function and knows what to do with gridded data sets."
   ]
  },
  {
   "cell_type": "code",
   "execution_count": null,
   "metadata": {},
   "outputs": [],
   "source": [
    "degree = 2\n",
    "Q = firedrake.FunctionSpace(mesh, family='CG', degree=degree)\n",
    "V = firedrake.VectorFunctionSpace(mesh, family='CG', degree=degree)\n",
    "\n",
    "h0 = icepack.interpolate(thickness, Q)\n",
    "u0 = icepack.interpolate((vx, vy), V)"
   ]
  },
  {
   "cell_type": "code",
   "execution_count": null,
   "metadata": {},
   "outputs": [],
   "source": [
    "fig, axes = icepack.plot.subplots()\n",
    "streamlines = icepack.plot.streamplot(u0, precision=1000, density=2500, axes=axes)\n",
    "fig.colorbar(streamlines, label='meters/year')\n",
    "plt.show(fig)"
   ]
  },
  {
   "cell_type": "code",
   "execution_count": null,
   "metadata": {},
   "outputs": [],
   "source": [
    "T = 260\n",
    "A = firedrake.interpolate(firedrake.Constant(icepack.rate_factor(T)), Q)\n",
    "\n",
    "ice_shelf = icepack.models.IceShelf()\n",
    "opts = {'dirichlet_ids': [3, 4, 5, 6, 7, 8], 'tol': 1e-6}\n",
    "u = ice_shelf.diagnostic_solve(u0=u0, h=h0, A=A, **opts)"
   ]
  },
  {
   "cell_type": "code",
   "execution_count": null,
   "metadata": {},
   "outputs": [],
   "source": [
    "fig, axes = icepack.plot.subplots()\n",
    "streamlines = icepack.plot.streamplot(u, precision=1000, density=2500, axes=axes)\n",
    "fig.colorbar(streamlines, label='meters/year')\n",
    "plt.show(fig)"
   ]
  },
  {
   "cell_type": "markdown",
   "metadata": {},
   "source": [
    "We get a fairly reasonable approximation for the velocity even with a spatially homogeneous guess for the ice temperature."
   ]
  },
  {
   "cell_type": "code",
   "execution_count": null,
   "metadata": {},
   "outputs": [],
   "source": [
    "print(icepack.norm(u - u0) / icepack.norm(u0))"
   ]
  },
  {
   "cell_type": "markdown",
   "metadata": {},
   "source": [
    "Ballpark estimate, the surface and basal mass balance of Larsen C are +30 and -30 cm/yr respectively, so we can take the total to be 0.\n",
    "Let's simulate the evolution of the ice shelf for the next 10 years.\n",
    "The code for this loop should be familiar from the previous example."
   ]
  },
  {
   "cell_type": "code",
   "execution_count": null,
   "metadata": {},
   "outputs": [],
   "source": [
    "a = firedrake.Function(Q)\n",
    "h = h0.copy(deepcopy=True)\n",
    "\n",
    "dt = 0.5\n",
    "for n in range(int(10 / dt) + 1):\n",
    "    h = ice_shelf.prognostic_solve(dt, h0=h, a=a, u=u, h_inflow=h0)\n",
    "    u = ice_shelf.diagnostic_solve(u0=u, h=h, A=A, **opts)"
   ]
  },
  {
   "cell_type": "code",
   "execution_count": null,
   "metadata": {},
   "outputs": [],
   "source": [
    "fig, axes = icepack.plot.subplots()\n",
    "contours = icepack.plot.tricontourf(h, 96, axes=axes)\n",
    "fig.colorbar(contours, label='meters')\n",
    "plt.show(fig)"
   ]
  },
  {
   "cell_type": "markdown",
   "metadata": {},
   "source": [
    "By plotting the difference between the modeled thickness after 10 years and the initial thickness, we can see the propagation of the rifts downstream.\n",
    "This effect is best visualized with a diverging colormap that makes the 0-contour really obvious."
   ]
  },
  {
   "cell_type": "code",
   "execution_count": null,
   "metadata": {},
   "outputs": [],
   "source": [
    "δh = firedrake.Function(Q)\n",
    "δh.assign(h - h0)\n",
    "\n",
    "fig, axes = icepack.plot.subplots()\n",
    "contours = icepack.plot.tricontourf(δh, axes=axes, cmap='RdBu',\n",
    "                                    levels=np.linspace(-10, +10, 101), extend='both')\n",
    "fig.colorbar(contours, label='meters')\n",
    "plt.show(fig)"
   ]
  },
  {
   "cell_type": "markdown",
   "metadata": {},
   "source": [
    "The oscillatory pattern makes it less than obvious whether the ice shelf gained or lost mass, so let's evaluate the integral of the thickness change to see."
   ]
  },
  {
   "cell_type": "code",
   "execution_count": null,
   "metadata": {},
   "outputs": [],
   "source": [
    "from firedrake import assemble, dx\n",
    "print(assemble(δh * dx) / assemble(1 * dx(mesh)))"
   ]
  },
  {
   "cell_type": "markdown",
   "metadata": {},
   "source": [
    "Seeing as the simulation ran for 10 years, this isn't a wildly unrealistic number."
   ]
  },
  {
   "cell_type": "markdown",
   "metadata": {},
   "source": [
    "### Conclusion\n",
    "\n",
    "In the last demo, we showed how to simulate ice shelf flow using synthetic data.\n",
    "Here we showed how to load in a generated mesh and observational data, and we used this same functionality to simulate a real ice shelf.\n",
    "\n",
    "Many real data sets require some amount of preprocessing before they can be used for modeling.\n",
    "For example, many velocity data sets have missing pixels or patches due to noise in the optical or radar imagery, and these missing points have to be filled in somehow.\n",
    "The Bedmap2 thickness also contains processing artifacts that are visible as depressions running diagonally across the ice shelf.\n",
    "These artifacts could be removed by using a low-pass filter on the gridded data, although this might also wash out some real features like the many rifts in the ice.\n",
    "\n",
    "In order to run the simulation, we had to come up with a guess for the ice rheology.\n",
    "The simple choice we made is quite far from the real value and in a subsequent demo we'll show how to estimate it from observational data."
   ]
  }
 ],
 "metadata": {
  "kernelspec": {
   "display_name": "firedrake",
   "language": "python",
   "name": "firedrake"
  },
  "language_info": {
   "name": "python",
   "pygments_lexer": "ipython3"
  }
 },
 "nbformat": 4,
 "nbformat_minor": 2
}
