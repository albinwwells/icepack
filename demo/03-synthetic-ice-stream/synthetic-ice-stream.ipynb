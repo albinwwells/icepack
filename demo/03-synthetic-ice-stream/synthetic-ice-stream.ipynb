{
 "cells": [
  {
   "cell_type": "code",
   "execution_count": null,
   "metadata": {},
   "outputs": [],
   "source": [
    "%matplotlib inline\n",
    "import matplotlib.pyplot as plt\n",
    "import firedrake\n",
    "from firedrake import inner, div, dx, ds, sqrt\n",
    "import icepack, icepack.models, icepack.plot"
   ]
  },
  {
   "cell_type": "markdown",
   "metadata": {},
   "source": [
    "# Synthetic ice stream\n",
    "\n",
    "In this demo, we'll simulate the evolution of an ice stream with both grounded and floating parts.\n",
    "Ice streams are substantially more complicated than a floating ice shelf.\n",
    "First, there are more fields.\n",
    "For floating ice shelves, we only had to consider the velocity, thickness, and fluidity, but for ice streams there's also the surface elevation and bed friction.\n",
    "Second, the position of the grounded line -- the contour across which the glacier is thin enough to go afloat -- can migrate in time.\n",
    "\n",
    "The diagnostic equation for an ice stream is similar to that of a floating ice shelf, but for the addition of a term for basal friction:\n",
    "\n",
    "$$\\nabla\\cdot hM - C|u|^{1/m - 1}u - \\rho gh\\nabla s = 0,$$\n",
    "\n",
    "where $m$ is the *sliding exponent* and $C$ is the *sliding coefficient*."
   ]
  },
  {
   "cell_type": "markdown",
   "metadata": {},
   "source": [
    "The glacier state we'll start out with is grounded throughout the entire domain, and during the simulation it will thin out and go afloat part way through.\n",
    "Accurately predicting grounding line migration is a major problem in glacier flow modeling."
   ]
  },
  {
   "cell_type": "markdown",
   "metadata": {},
   "source": [
    "### Geometry and input data\n",
    "\n",
    "We'll use an elongated fjord-like geometry, 12 km wide and 50 km from the inflow boundary to the ice front.\n",
    "The bedrock slopes down from 200 m above sea level at the inflow boundary to -400 m at the terminus; the glacier becomes marine one third of the way into the domain."
   ]
  },
  {
   "cell_type": "code",
   "execution_count": null,
   "metadata": {},
   "outputs": [],
   "source": [
    "Lx, Ly = 50e3, 12e3\n",
    "nx, ny = 32, 32\n",
    "mesh = firedrake.RectangleMesh(nx, ny, Lx, Ly)\n",
    "\n",
    "degree = 2\n",
    "Q = firedrake.FunctionSpace(mesh, 'CG', degree)\n",
    "V = firedrake.VectorFunctionSpace(mesh, 'CG', degree)"
   ]
  },
  {
   "cell_type": "code",
   "execution_count": null,
   "metadata": {},
   "outputs": [],
   "source": [
    "x, y = firedrake.SpatialCoordinate(mesh)\n",
    "\n",
    "b_in, b_out = 200, -400\n",
    "b = firedrake.interpolate(b_in - (b_in - b_out) * x / Lx, Q)\n",
    "\n",
    "s_in, s_out = 1000, 50\n",
    "s0 = firedrake.interpolate(s_in - (s_in - s_out) * x / Lx, Q)\n",
    "\n",
    "h0 = firedrake.interpolate(s0 - b, Q)"
   ]
  },
  {
   "cell_type": "markdown",
   "metadata": {},
   "source": [
    "As a sanity check, we'll evaluate the driving stress\n",
    "\n",
    "$$\\tau_D = -\\rho_Igh\\nabla s$$\n",
    "\n",
    "at the inflow boundary of the ice stream to make sure the value isn't absurd."
   ]
  },
  {
   "cell_type": "code",
   "execution_count": null,
   "metadata": {},
   "outputs": [],
   "source": [
    "from icepack.constants import rho_ice as ρ_I, rho_water as ρ_W, gravity as g\n",
    "h_in = s_in - b_in\n",
    "δs_δx = (s_out - s_in) / Lx\n",
    "τ_D = -ρ_I * g * (s_in - b_in) * (s_out - s_in) / Lx\n",
    "print(\"{} kPa\".format(1000 * -ρ_I * g * h_in * δs_δx))"
   ]
  },
  {
   "cell_type": "markdown",
   "metadata": {},
   "source": [
    "This stress is on the moderate side for Greenland, high for Antarctica."
   ]
  },
  {
   "cell_type": "markdown",
   "metadata": {},
   "source": [
    "Next we have to come up with some rough guess for the initial velocity of the glacier.\n",
    "Unlike for ice shelves, we can't write down an exact solution for the velocity.\n",
    "Our best hope is to come up with something vaguely reasonable and tune it by trial and error until we get something that isn't ridiculous."
   ]
  },
  {
   "cell_type": "code",
   "execution_count": null,
   "metadata": {},
   "outputs": [],
   "source": [
    "u_in, u_out = 500, 8500\n",
    "velocity_x = u_in + (u_out - u_in) * (x/Lx)**2\n",
    "u0 = firedrake.interpolate(firedrake.as_vector((velocity_x, 0)), V)"
   ]
  },
  {
   "cell_type": "code",
   "execution_count": null,
   "metadata": {},
   "outputs": [],
   "source": [
    "temp = 255.0\n",
    "A0 = icepack.rate_factor(temp)\n",
    "A = firedrake.interpolate(firedrake.Constant(A0), Q)"
   ]
  },
  {
   "cell_type": "markdown",
   "metadata": {},
   "source": [
    "Now to pick a friction coefficient.\n",
    "We'll use a value of the friction that exactly balances the driving stress at the inflow boundary.\n",
    "Where the glacier goes marine, we'll scale the friction down acoording to the height above flotation.\n",
    "This is a very rough approximation.\n",
    "The point is to scale the friction down continuously as the glacier approaches flotation.\n",
    "If we didn't take care to ramp the friction down and instead just set it to 0 where the ice is floating, we'd get a shock to the system as the bed friction \"turns off\" across the grounding line."
   ]
  },
  {
   "cell_type": "code",
   "execution_count": null,
   "metadata": {},
   "outputs": [],
   "source": [
    "from icepack.constants import weertman_sliding_law as m\n",
    "friction = τ_D / u_in**(1/m)\n",
    "\n",
    "p_W = ρ_W * g * firedrake.max_value(0, h0 - s0)\n",
    "p_I = ρ_I * g * h0\n",
    "ϕ = 1 - p_W / p_I\n",
    "C = firedrake.interpolate(friction * ϕ, Q)"
   ]
  },
  {
   "cell_type": "markdown",
   "metadata": {},
   "source": [
    "The last thing we need to do before jumping off into the actual simulation is to compute the initial velocity field."
   ]
  },
  {
   "cell_type": "code",
   "execution_count": null,
   "metadata": {},
   "outputs": [],
   "source": [
    "ice_stream = icepack.models.IceStream()\n",
    "opts = {'dirichlet_ids': [1], 'side_wall_ids': [3, 4], 'tol': 1e-6}\n",
    "u0 = ice_stream.diagnostic_solve(u0=u0, h=h0, s=s0, A=A, C=C, **opts)"
   ]
  },
  {
   "cell_type": "code",
   "execution_count": null,
   "metadata": {},
   "outputs": [],
   "source": [
    "fig, axes = icepack.plot.subplots()\n",
    "contours = icepack.plot.tricontourf(u0, 25, axes=axes)\n",
    "fig.colorbar(contours, ax=axes, fraction=0.012, pad=0.04)\n",
    "plt.show(fig)"
   ]
  },
  {
   "cell_type": "markdown",
   "metadata": {},
   "source": [
    "Below we show some plots of the basal shear stress and the mass flux.\n",
    "Note how the basal shear stress gets closer to 0 near the terminus because of how we reduced the friction."
   ]
  },
  {
   "cell_type": "code",
   "execution_count": null,
   "metadata": {},
   "outputs": [],
   "source": [
    "τ_b = firedrake.interpolate(-1000 * C * sqrt(inner(u0, u0))**(1/m - 1)*u0, V)\n",
    "fig, axes = icepack.plot.subplots()\n",
    "contours = icepack.plot.tricontourf(τ_b, 25, axes=axes)\n",
    "fig.colorbar(contours, label='kPa', fraction=0.012, pad=0.04)\n",
    "plt.show(fig)"
   ]
  },
  {
   "cell_type": "markdown",
   "metadata": {},
   "source": [
    "There's a huge mass balance anomaly near the ice front, an artifact of our choice of initial conditions.\n",
    "As the simulation progresses, this initial transient should be propagated out of the domain."
   ]
  },
  {
   "cell_type": "code",
   "execution_count": null,
   "metadata": {},
   "outputs": [],
   "source": [
    "f = firedrake.interpolate(-div(h0 * u0), Q)\n",
    "fig, axes = icepack.plot.subplots()\n",
    "contours = icepack.plot.tricontourf(f, 25, cmap='RdBu', vmin=-144, vmax=144, axes=axes)\n",
    "fig.colorbar(contours, label='meters/year', fraction=0.012, pad=0.04)\n",
    "plt.show(fig)"
   ]
  },
  {
   "cell_type": "markdown",
   "metadata": {},
   "source": [
    "### Modeling\n",
    "\n",
    "Now the good part -- taking our initial glacier state and projecting it forward until it reaches a steady state.\n",
    "We'll use a timestep of 2 months and run the simulation forward for 32 model years.\n",
    "This is about enough time to propagate out the initial transients and arrive at a state of mass and momentum balance.\n",
    "Additionally, we choose an accumulation rate that roughly balances out the ice flux at the inflow boundary, and gives a vaguely reasonable melt rate towards the front."
   ]
  },
  {
   "cell_type": "code",
   "execution_count": null,
   "metadata": {},
   "outputs": [],
   "source": [
    "num_years = 32\n",
    "timesteps_per_year = 6\n",
    "\n",
    "δt = 1.0/timesteps_per_year\n",
    "num_timesteps = num_years * timesteps_per_year\n",
    "\n",
    "a = 6 - 12 * x / Lx\n",
    "h = h0.copy(deepcopy=True)\n",
    "u = u0.copy(deepcopy=True)\n",
    "\n",
    "for k in range(num_timesteps + 1):\n",
    "    h = ice_stream.prognostic_solve(δt, h0=h, a=a, u=u, h_inflow=h0)\n",
    "    s = ice_stream.compute_surface(h=h, b=b)\n",
    "    ϕ = 1 - ρ_W/ρ_I * firedrake.max_value(0, h - s) / h\n",
    "    C = firedrake.interpolate(friction * ϕ, Q)\n",
    "    u = ice_stream.diagnostic_solve(u0=u, h=h, s=s, A=A, C=C, **opts)\n",
    "    print('.' if k % timesteps_per_year == 0 else '', end='')"
   ]
  },
  {
   "cell_type": "markdown",
   "metadata": {},
   "source": [
    "Now some plots of the results:"
   ]
  },
  {
   "cell_type": "code",
   "execution_count": null,
   "metadata": {},
   "outputs": [],
   "source": [
    "fig, axes = icepack.plot.subplots()\n",
    "contours =  icepack.plot.tricontourf(h, 25, axes=axes)\n",
    "fig.colorbar(contours, label='meters', fraction=0.012, pad=0.04)\n",
    "plt.show(fig)"
   ]
  },
  {
   "cell_type": "code",
   "execution_count": null,
   "metadata": {},
   "outputs": [],
   "source": [
    "fig, axes = icepack.plot.subplots()\n",
    "contours = icepack.plot.tricontourf(u, 25, axes=axes)\n",
    "fig.colorbar(contours, label='meters/year', fraction=0.012, pad=0.04)\n",
    "plt.show(fig)"
   ]
  },
  {
   "cell_type": "markdown",
   "metadata": {},
   "source": [
    "We can see by plotting the mass balance that the system is much closer to equilibrium than it was at the start."
   ]
  },
  {
   "cell_type": "code",
   "execution_count": null,
   "metadata": {},
   "outputs": [],
   "source": [
    "f = firedrake.interpolate(a - div(h * u), Q)\n",
    "fig, axes = icepack.plot.subplots()\n",
    "contours = icepack.plot.tricontourf(f, 25, cmap='RdBu', vmin=-1.2, vmax=1.2, axes=axes)\n",
    "fig.colorbar(contours, label='meters/year', fraction=0.012, pad=0.04)\n",
    "plt.show(fig)"
   ]
  },
  {
   "cell_type": "markdown",
   "metadata": {},
   "source": [
    "Finally, we can draw some transects through the domain to see what the surface, bed, and ice base elevation look like in the $x, z$-plane."
   ]
  },
  {
   "cell_type": "code",
   "execution_count": null,
   "metadata": {},
   "outputs": [],
   "source": [
    "import numpy as np\n",
    "xs = np.array([(Lx * k / (2 * nx), 0) for k in range(2 * nx + 1)])\n",
    "\n",
    "ss = np.array(s.at(xs, tolerance=1e-10))\n",
    "hs = np.array(h.at(xs, tolerance=1e-10))\n",
    "bs = np.array(b.at(xs, tolerance=1e-10))\n",
    "\n",
    "fig, ax = plt.subplots()\n",
    "ax.plot(xs[:, 0], bs, color='black')\n",
    "ax.plot(xs[:, 0], ss - hs, color='blue')\n",
    "ax.plot(xs[:, 0], ss, color='blue')\n",
    "plt.show(fig)"
   ]
  },
  {
   "cell_type": "markdown",
   "metadata": {},
   "source": [
    "The glacier exhibits the typical drop in thickness gradient as it crosses the grounding line."
   ]
  },
  {
   "cell_type": "code",
   "execution_count": null,
   "metadata": {},
   "outputs": [],
   "source": [
    "fig, ax = plt.subplots()\n",
    "ax.plot(xs[:, 0], hs)\n",
    "plt.show(fig)"
   ]
  },
  {
   "cell_type": "markdown",
   "metadata": {},
   "source": [
    "### Conclusion\n",
    "\n",
    "In this demo we've shown how to simulate the evolution of a grounded ice stream.\n",
    "There are more fields to keep track of than for a floating ice shelf; in addition to updating the ice thickness and velocity in each timestep, we must also update the surface elevation and the friction coefficient to account for possible ungrounding.\n",
    "Nonetheless, the basic principles are still essentially the same.\n",
    "\n",
    "Coming up with physically plausible synthetic test cases is difficult.\n",
    "The variables that we can control are the bed geometry, the accumulation rate, and the ice thickness and velocity at inflow.\n",
    "To a certain extent, we can pick the friction coefficient, but this can change in ways that are difficult to predict as parts of the glacier begin to float.\n",
    "Our initial state was far out of mass balance and we let it evolve towards equilibrium, but we don't know ahead of time what surface slope or stretching rate the glacier will settle on in the end.\n",
    "\n",
    "The eventual steady state could be physically implausible for reasons that weren't obvious from the start.\n",
    "For example, if the ice strain rate increases beyond what we expect after a few years of model time, the mass flux at the inflow boundary could be much larger than what the influx and accumulation rate can supply, leading to an unphysically sharp drop in the surface.\n",
    "\n",
    "My point is, if you try to come up with your own synthetic test cases, expect lots of trial and error.\n",
    "\n",
    "The bed elevation we used sloped down towards the ocean; had we instead used a bed elevation that sloped down going inland, the configuration would be unstable due to marine ice sheet instability.\n",
    "An interesting variations on this demo could be to use a bed geometry with several stable pinning points, interspersed with unstable retrograde slopes."
   ]
  }
 ],
 "metadata": {
  "language_info": {
   "name": "python",
   "pygments_lexer": "ipython3"
  }
 },
 "nbformat": 4,
 "nbformat_minor": 2
}
