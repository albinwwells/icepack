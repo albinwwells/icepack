{
 "cells": [
  {
   "cell_type": "code",
   "execution_count": null,
   "metadata": {},
   "outputs": [],
   "source": [
    "%matplotlib inline\n",
    "import os, os.path\n",
    "import matplotlib.pyplot as plt\n",
    "import numpy as np\n",
    "import firedrake\n",
    "import icepack, icepack.plot, icepack.models"
   ]
  },
  {
   "cell_type": "markdown",
   "metadata": {},
   "source": [
    "# Inverse problems\n",
    "\n",
    "In this demo, we'll revisit the Larsen Ice Shelf.\n",
    "This time, we're going to estimate the fluidity coefficient $A$ in Glen's flow law\n",
    "\n",
    "$$\\dot\\varepsilon = A\\tau^3$$\n",
    "\n",
    "from observational data.\n",
    "In the previous demos, we've come up with some value of the fluidity coefficient and computed a velocity field by solving an elliptic partial differential equation.\n",
    "The fluidity coefficient is roughly a known function of the ice temperature, together with some fudge factors for crystal fabric or large-scale damage, so we know a rough range of values that it could take.\n",
    "Nonetheless, we don't have large-scale measurements of the fluidity coefficient from remote sensing like we do for ice velocity and thickness.\n",
    "\n",
    "Instead, we can try to come up with a value of $A$ that gives a velocity field closest to what we observed.\n",
    "This rough idea can be turned into a constrained optimization problem.\n",
    "The quantity we wish to optimize is the misfit between the computed velocity $u$ and the observed velocity $u^o$:\n",
    "\n",
    "$$E(u) = \\frac{1}{2}\\int_\\Omega\\left(\\frac{u - u^o}{\\sigma}\\right)^2dx,$$\n",
    "\n",
    "where $\\sigma$ are the standard deviations of the measurements.\n",
    "In addition to minimizing the misfit, we also want to have a relatively smooth value of $A$.\n",
    "The regularization functional $R$ is included to penalize oscillations over a given length scale $L$:\n",
    "\n",
    "$$R(A) = \\frac{L^2}{2}\\int_\\Omega|\\nabla A|^2dx.$$\n",
    "\n",
    "Finally, let $F(u, A)$ be the weak form of the shallow shelf equations; the constraint is that $F(u, A) = 0$.\n",
    "We can enforce this constraint by introducing the Lagrange multiplier $\\lambda$, in which case the combined objective functional is\n",
    "\n",
    "$$J(u, A; \\lambda) = E(u) + R(A) + \\langle F(u, A), \\lambda\\rangle.$$\n",
    "\n",
    "We can calculate the derivative of this functional with respect to $A$ by using the *adjoint method*.\n",
    "We can then use a descent method to iterate towards a critical point, which is hopefully close to the true value of the fluidity coefficient."
   ]
  },
  {
   "cell_type": "markdown",
   "metadata": {},
   "source": [
    "### Input data\n",
    "\n",
    "The input data are just as in the previous demo for the Larsen Ice Shelf, but we also need to use the error estimates for the velocities."
   ]
  },
  {
   "cell_type": "code",
   "execution_count": null,
   "metadata": {},
   "outputs": [],
   "source": [
    "data_directory = os.environ['ICEPACK_DATA']"
   ]
  },
  {
   "cell_type": "code",
   "execution_count": null,
   "metadata": {},
   "outputs": [],
   "source": [
    "mesh = firedrake.Mesh(os.path.join(data_directory, \"meshes/larsen/larsen.msh\"))\n",
    "\n",
    "fig, axes = icepack.plot.subplots()\n",
    "axes.set_xlabel('meters')\n",
    "axes.grid()\n",
    "icepack.plot.triplot(mesh, axes=axes, linewidth=2)\n",
    "plt.show(fig)"
   ]
  },
  {
   "cell_type": "code",
   "execution_count": null,
   "metadata": {},
   "outputs": [],
   "source": [
    "from icepack.grid import arcinfo, GridData\n",
    "thickness = arcinfo.read(os.path.join(data_directory, \"bedmap2/larsen-h.txt\"))\n",
    "vx = arcinfo.read(os.path.join(data_directory, \"measures_antarctica/larsen-vx.txt\"))\n",
    "vy = arcinfo.read(os.path.join(data_directory, \"measures_antarctica/larsen-vy.txt\"))\n",
    "err = arcinfo.read(os.path.join(data_directory, \"measures_antarctica/larsen-err.txt\"))"
   ]
  },
  {
   "cell_type": "code",
   "execution_count": null,
   "metadata": {},
   "outputs": [],
   "source": [
    "from preprocess import preprocess\n",
    "vx = preprocess(vx, mesh)\n",
    "vy = preprocess(vy, mesh)\n",
    "thickness = preprocess(thickness, mesh, radius=6)"
   ]
  },
  {
   "cell_type": "code",
   "execution_count": null,
   "metadata": {},
   "outputs": [],
   "source": [
    "degree = 2\n",
    "Q = firedrake.FunctionSpace(mesh, 'CG', degree)\n",
    "V = firedrake.VectorFunctionSpace(mesh, 'CG', degree)\n",
    "\n",
    "h = icepack.interpolate(thickness, Q)\n",
    "u_obs = icepack.interpolate(lambda x: (vx(x), vy(x)), V)\n",
    "σ = icepack.interpolate(err, Q)"
   ]
  },
  {
   "cell_type": "markdown",
   "metadata": {},
   "source": [
    "Here we'll plot the velocity errors.\n",
    "You can see from the stripey pattern that they depend on the particular swath from the observational platform."
   ]
  },
  {
   "cell_type": "code",
   "execution_count": null,
   "metadata": {},
   "outputs": [],
   "source": [
    "fig, ax = icepack.plot.subplots()\n",
    "contours = icepack.plot.tricontourf(σ, 20, axes=ax)\n",
    "fig.colorbar(contours)\n",
    "plt.show(fig)"
   ]
  },
  {
   "cell_type": "markdown",
   "metadata": {},
   "source": [
    "We need to make an initial guess for the fluidity parameter.\n",
    "In this case, we'll use the same value as in the second demo -- a constant fluidity assuming a temperature of $-13^\\circ$C."
   ]
  },
  {
   "cell_type": "code",
   "execution_count": null,
   "metadata": {},
   "outputs": [],
   "source": [
    "T = 260\n",
    "A = firedrake.interpolate(firedrake.Constant(icepack.rate_factor(T)), Q)\n",
    "\n",
    "ice_shelf = icepack.models.IceShelf()\n",
    "opts = {'dirichlet_ids': [3, 4, 5, 6, 7, 8], 'tol': 1e-6}\n",
    "u = ice_shelf.diagnostic_solve(u0=u_obs, h=h, A=A, **opts)"
   ]
  },
  {
   "cell_type": "markdown",
   "metadata": {},
   "source": [
    "### Inferring the fluidity\n",
    "\n",
    "Solving an inverse problem has lots of moving parts, so we have an object called `InverseProblem` in icepack to manage everything for you.\n",
    "Hopefully this class saves you from too many low-level details, but still provides a good amount of flexibility and transparency.\n",
    "There are five parts that go into an inverse problem:\n",
    "* a physics model\n",
    "* an initial guess for the parameter and state\n",
    "* an error metric\n",
    "* a smoothness metric\n",
    "* a priori bounds on the parameter\n",
    "\n",
    "We already have the first two, so it remains to decide how we'll measure the misfit and smoothness.\n",
    "Here we'll use the $L^2$-norm error for the velocities and the mean-square gradient for the fluidity, respectively."
   ]
  },
  {
   "cell_type": "code",
   "execution_count": null,
   "metadata": {},
   "outputs": [],
   "source": [
    "from firedrake import inner, grad, dx\n",
    "import icepack.inverse\n",
    "\n",
    "objective = 0.5 * (inner(u - u_obs, u - u_obs)) / σ**2 * dx\n",
    "\n",
    "L = 5e3\n",
    "regularization = 0.5 * L**2 * inner(grad(A), grad(A)) * dx"
   ]
  },
  {
   "cell_type": "markdown",
   "metadata": {},
   "source": [
    "The ice temperature is certainly above $-25^\\circ$C and below $0^\\circ$C.\n",
    "However, the actual value of the fluidity parameter might instead be consistent with a temperature above 0 in the case of ice that has experienced lots of damage from crevassing.\n",
    "With that in mind, we'll take a maximum value for $A$ to be consistent with a temperature of $+5^\\circ$C."
   ]
  },
  {
   "cell_type": "code",
   "execution_count": null,
   "metadata": {},
   "outputs": [],
   "source": [
    "Amin, Amax = icepack.rate_factor(248.0), icepack.rate_factor(278.0)\n",
    "print(f'Min, max values of the fluidity: {Amin}, {Amax}')"
   ]
  },
  {
   "cell_type": "markdown",
   "metadata": {},
   "source": [
    "As a convenience, the inverse problem object allows you to call a function of your choice at the end of every iteration.\n",
    "For this demonstration, we'll have it print out the values of the misfit and regularization functionals.\n",
    "You could also, say, make a plot of the state and parameter guess at every iteration to make a movie of how the algorithm progresses."
   ]
  },
  {
   "cell_type": "code",
   "execution_count": null,
   "metadata": {},
   "outputs": [],
   "source": [
    "area = firedrake.assemble(firedrake.Constant(1) * dx(mesh))\n",
    "def print_error_and_regularization(inverse_problem):\n",
    "    E = firedrake.assemble(inverse_problem.objective)\n",
    "    R = firedrake.assemble(inverse_problem.regularization)\n",
    "    B = firedrake.assemble(inverse_problem.barrier)\n",
    "    print(f'{E/area:g}, {R/area:g}, {B/area:g}')"
   ]
  },
  {
   "cell_type": "markdown",
   "metadata": {},
   "source": [
    "Next, we'll create the `InverseProblem` object.\n",
    "We've already mentioned several objects that the inverse problem needs -- the model, the initial guess, some functionals, etc.\n",
    "Additionally, it needs to know the name of the observed field and the parameter (the `state_name` and `parameter_name`) arguments, since these values are passed to the forward solver as keyword arguments.\n",
    "All the additional arguments to the forward model are passed as a dictionary `model_args`.\n",
    "In our case, these consist of the thickness field, the initial guess for the velocity, and the forward solver tolerance.\n",
    "Finally, to specify the inverse problem, we need to know where Dirichlet boundary conditions are to be applied, as this affects how one solves for the Lagrange multiplier field $\\lambda$.\n",
    "\n",
    "Once we've created the problem, we then create a solver object that will iteratively search for a good value of the parameters.\n",
    "The solver object is distinct from the problem so that it's easier to customize how the solver works."
   ]
  },
  {
   "cell_type": "code",
   "execution_count": null,
   "metadata": {},
   "outputs": [],
   "source": [
    "problem = icepack.inverse.InverseProblem(\n",
    "    model=ice_shelf,\n",
    "    method=icepack.models.IceShelf.diagnostic_solve,\n",
    "    objective=objective,\n",
    "    regularization=regularization,\n",
    "    state_name='u',\n",
    "    state=u,\n",
    "    parameter_name='A',\n",
    "    parameter=A,\n",
    "    parameter_bounds=(Amin, Amax),\n",
    "    barrier=1e-8,\n",
    "    model_args={'h': h, 'u0': u, 'tol': 1e-6},\n",
    "    dirichlet_ids=[3, 4, 5, 6, 7, 8]\n",
    ")\n",
    "\n",
    "solver = icepack.inverse.InverseSolver(problem, print_error_and_regularization)"
   ]
  },
  {
   "cell_type": "markdown",
   "metadata": {},
   "source": [
    "The solve method takes in a relative convergence tolerance, an absolute tolerance, and a maximum number of iterations, and it returns the total number of iterations necessary to achieve the given tolerances.\n",
    "In our case, we'll stop once the relative decrease in the objective function from one iteration to the next is less than 1/200.\n",
    "\n",
    "The algorithm takes a few minutes to run.\n",
    "Now would be the time to put on a fresh pot of coffee."
   ]
  },
  {
   "cell_type": "code",
   "execution_count": null,
   "metadata": {},
   "outputs": [],
   "source": [
    "iterations = solver.solve(\n",
    "    rtol=5e-3,\n",
    "    atol=0.0,\n",
    "    max_iterations=30\n",
    ")"
   ]
  },
  {
   "cell_type": "markdown",
   "metadata": {},
   "source": [
    "### Analysis\n",
    "\n",
    "Now that we're done, we'll want to to some post-processing and analysis on the fluidity parameter that we inferred.\n",
    "The inverse problem object stores the parameter we're inferring and the observed field as the properties `parameter` and `state` respectively.\n",
    "The names are intentionally not specific to just ice shelves.\n",
    "For other problems, we might instead be inferring a friction coefficient rather than a fluidity, or we might be observing the thickness instead of the velocity.\n",
    "You can see all the publicly visible properties by typing `help(inverse_problem)`."
   ]
  },
  {
   "cell_type": "code",
   "execution_count": null,
   "metadata": {},
   "outputs": [],
   "source": [
    "fig, ax = icepack.plot.subplots()\n",
    "ctr = icepack.plot.tricontourf(solver.parameter, 40, axes=ax)\n",
    "fig.colorbar(ctr)\n",
    "plt.show(fig)"
   ]
  },
  {
   "cell_type": "markdown",
   "metadata": {},
   "source": [
    "The fluidity is much higher around areas of heavy crevassing, and much lower around the northern edge of the ice shelf.\n",
    "It's possible that some of the ice is actually grounded here, and the velocities are actually a result of basal drag.\n",
    "In that case, the algorithm will erroneously give a low value of the fluidity, since that's the only variable at hand for explaining the observed velocities."
   ]
  },
  {
   "cell_type": "code",
   "execution_count": null,
   "metadata": {},
   "outputs": [],
   "source": [
    "fig, ax = icepack.plot.subplots()\n",
    "ctr = icepack.plot.tricontourf(solver.state, 40, axes=ax)\n",
    "fig.colorbar(ctr)\n",
    "plt.show(fig)"
   ]
  },
  {
   "cell_type": "markdown",
   "metadata": {},
   "source": [
    "The computed ice velocity is mostly similar to observations, but doesn't quite capture the sharp change in velocity near the big rift by Gipps Ice Rise.\n",
    "We regularized the problem by looking only for smooth values of the fluidity parameter.\n",
    "As a consequence, we won't be able to see sharp changes that might result from features like crevasses or rifts.\n",
    "We might instead try to use the total variation functional\n",
    "\n",
    "$$R(A) = L\\int_\\Omega|\\nabla A|dx$$\n",
    "\n",
    "if we were interested in features like this."
   ]
  },
  {
   "cell_type": "code",
   "execution_count": null,
   "metadata": {},
   "outputs": [],
   "source": [
    "fig, ax = icepack.plot.subplots()\n",
    "ctr = icepack.plot.tricontourf(solver.adjoint_state, 40, axes=ax)\n",
    "fig.colorbar(ctr)\n",
    "plt.show(fig)"
   ]
  },
  {
   "cell_type": "markdown",
   "metadata": {},
   "source": [
    "Plotting the adjoint state field directly can give us some idea of what areas of the ice shelf make the biggest difference for the total error."
   ]
  },
  {
   "cell_type": "markdown",
   "metadata": {},
   "source": [
    "Finally, let's try and see how different the inferred fluidity is from our naive guess:"
   ]
  },
  {
   "cell_type": "code",
   "execution_count": null,
   "metadata": {},
   "outputs": [],
   "source": [
    "print(icepack.norm(solver.parameter - A) / icepack.norm(A))\n",
    "print(firedrake.assemble(solver.objective) / area)"
   ]
  },
  {
   "cell_type": "markdown",
   "metadata": {},
   "source": [
    "Our final approximation departs quite substantially from the initial guess.\n",
    "This suggests that we can't get away with using simple guesses for making projections and that a data assimilation procedure is warranted.\n",
    "Additionally, the value of the misfit functional divided by the ice shelf area should be around 1/2, provided that we had a good value of the fluidity parameter.\n",
    "While the approximation we've found is an improvement over a naive guess, it leaves much to be desired still."
   ]
  },
  {
   "cell_type": "markdown",
   "metadata": {},
   "source": [
    "### Conclusion\n",
    "\n",
    "In this demo, we've shown how to back out the fluidity of an ice shelf from remote sensing observations.\n",
    "The value we find is not at all spatially homogeneous, so we probably couldn't have somehow parameterized it to get a reasonable guess.\n",
    "We could then use this value, together with some sort of closure assumption for how the fluidity evolves, to initialize a prognostic model of the ice shelf.\n",
    "\n",
    "We would expect from statistical estimation theory that the misfit functional divided by the shelf area will be around 1/2, since a sum of squared normal random variables has a $\\chi^2$-distribution.\n",
    "We are quite far off from that.\n",
    "There are a number of reasons why this might happen.\n",
    "\n",
    "* The error estimates $\\sigma$ are wrong.\n",
    "* We don't have a good way to also account for thickness errors, which are substantial.\n",
    "* We regularized the problem too much.\n",
    "* The ice shelf becomes grounded on some pinning point and we didn't add basal drag.\n",
    "* I implemented the algorithm wrong.\n",
    "\n",
    "It's probably a superposition of all of the above.\n",
    "In any case, there's quite a bit of improvement possible on what we've shown here."
   ]
  }
 ],
 "metadata": {
  "language_info": {
   "name": "python",
   "pygments_lexer": "ipython3"
  }
 },
 "nbformat": 4,
 "nbformat_minor": 2
}
